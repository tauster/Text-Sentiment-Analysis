{
 "cells": [
  {
   "cell_type": "markdown",
   "metadata": {},
   "source": [
    "# Assignment 1 - Text Analytics and Sentiment Analysis\n",
    "### <i>Tausif S</i>"
   ]
  },
  {
   "cell_type": "markdown",
   "metadata": {},
   "source": [
    "<br>\n",
    "## 0. Introduction\n",
    "The goal for this assignment is to determine the sentiment of text information. More specifically, the text used for this assignment are tweets revolving the 2015 Canadian elections. Once sentiment analysis is performed, the following research question must be answered: <i>“What can public opinion on Twitter tell us about the Canadian political landscape in 2015?”</i>\n",
    "\n",
    "##### _Importing packages used such as scikit-learn._\n",
    "For this assignment, the following packages are used:\n",
    "* Numpy\n",
    "* Matplotlib\n",
    "* Pandas\n",
    "* Regular Expression Operations\n",
    "* Scikit-learn"
   ]
  },
  {
   "cell_type": "code",
   "execution_count": 1,
   "metadata": {},
   "outputs": [],
   "source": [
    "import numpy as np\n",
    "import matplotlib.pyplot as plt\n",
    "import pandas as pd\n",
    "import re\n",
    "\n",
    "# To view plots inline with Jupyter Notebooks.\n",
    "%matplotlib inline\n",
    "\n",
    "from sklearn.feature_extraction.text import CountVectorizer\n",
    "from sklearn.model_selection import train_test_split, learning_curve\n",
    "from sklearn.linear_model import LogisticRegression\n",
    "from sklearn import metrics\n",
    "\n",
    "# To stop printing warnings related to Matplotlib building its font cache.\n",
    "import warnings\n",
    "warnings.filterwarnings('ignore')"
   ]
  },
  {
   "cell_type": "markdown",
   "metadata": {},
   "source": [
    "<br>\n",
    "## 1. Data Cleaning\n",
    "##### _Importing and cleaning data._\n",
    "Before performing any analyses, the all text data must be cleaned and prepared for model usage. For this assignment, two major sets of data are being used. The first is the `classified_tweets` dataset, which includes 200000 tweets that are classified as either negative, 0, or positive, 4, sentiments. The `unclassified_tweets` dataset includes the 2015 Canadian election tweets that will need further analysis. "
   ]
  },
  {
   "cell_type": "markdown",
   "metadata": {},
   "source": [
    "### 1.1 Importing Data Sets\n",
    "First, the `classified_tweets` and `unclassified_tweets` datasets are imported using the `read_csv` function from pandas.\n",
    "\n",
    "Note that only the class and text columns are being used for the `classified_tweets` dataset. This is because it was decided that the remaining columns of the dataset won't be useful for sentiment training."
   ]
  },
  {
   "cell_type": "code",
   "execution_count": 2,
   "metadata": {
    "scrolled": true
   },
   "outputs": [],
   "source": [
    "# Importing datasets.\n",
    "classified_tweets = pd.read_csv('/resources/data/classified_tweets.txt', sep = ',', names = ['class', 'id', 'date', 'query', 'user', 'text'], skiprows = 1, usecols = ['class', 'text'])\n",
    "unclassified_tweets = pd.read_csv('/resources/data/unclassified_tweets.txt', names = ['text'])"
   ]
  },
  {
   "cell_type": "code",
   "execution_count": 3,
   "metadata": {
    "scrolled": true
   },
   "outputs": [
    {
     "data": {
      "text/html": [
       "<div>\n",
       "<table border=\"1\" class=\"dataframe\">\n",
       "  <thead>\n",
       "    <tr style=\"text-align: right;\">\n",
       "      <th></th>\n",
       "      <th>class</th>\n",
       "      <th>text</th>\n",
       "    </tr>\n",
       "  </thead>\n",
       "  <tbody>\n",
       "    <tr>\n",
       "      <th>0</th>\n",
       "      <td>0</td>\n",
       "      <td>@switchfoot http://twitpic.com/2y1zl - Awww, t...</td>\n",
       "    </tr>\n",
       "    <tr>\n",
       "      <th>1</th>\n",
       "      <td>0</td>\n",
       "      <td>is upset that he can't update his Facebook by ...</td>\n",
       "    </tr>\n",
       "    <tr>\n",
       "      <th>2</th>\n",
       "      <td>0</td>\n",
       "      <td>@Kenichan I dived many times for the ball. Man...</td>\n",
       "    </tr>\n",
       "    <tr>\n",
       "      <th>3</th>\n",
       "      <td>0</td>\n",
       "      <td>my whole body feels itchy and like its on fire</td>\n",
       "    </tr>\n",
       "    <tr>\n",
       "      <th>4</th>\n",
       "      <td>0</td>\n",
       "      <td>@nationwideclass no, it's not behaving at all....</td>\n",
       "    </tr>\n",
       "  </tbody>\n",
       "</table>\n",
       "</div>"
      ],
      "text/plain": [
       "   class                                               text\n",
       "0      0  @switchfoot http://twitpic.com/2y1zl - Awww, t...\n",
       "1      0  is upset that he can't update his Facebook by ...\n",
       "2      0  @Kenichan I dived many times for the ball. Man...\n",
       "3      0    my whole body feels itchy and like its on fire \n",
       "4      0  @nationwideclass no, it's not behaving at all...."
      ]
     },
     "execution_count": 3,
     "metadata": {},
     "output_type": "execute_result"
    }
   ],
   "source": [
    "# Previewing the classified_tweets dataset.\n",
    "classified_tweets.head()"
   ]
  },
  {
   "cell_type": "code",
   "execution_count": 4,
   "metadata": {},
   "outputs": [
    {
     "data": {
      "text/html": [
       "<div>\n",
       "<table border=\"1\" class=\"dataframe\">\n",
       "  <thead>\n",
       "    <tr style=\"text-align: right;\">\n",
       "      <th></th>\n",
       "      <th>text</th>\n",
       "    </tr>\n",
       "  </thead>\n",
       "  <tbody>\n",
       "    <tr>\n",
       "      <th>0</th>\n",
       "      <td>﻿living the dream. #cameraman #camera #camerac...</td>\n",
       "    </tr>\n",
       "    <tr>\n",
       "      <th>1</th>\n",
       "      <td>justin #trudeau's reasons for thanksgiving. to...</td>\n",
       "    </tr>\n",
       "    <tr>\n",
       "      <th>2</th>\n",
       "      <td>@themadape   butt…..butt…..we’re allergic to l...</td>\n",
       "    </tr>\n",
       "    <tr>\n",
       "      <th>3</th>\n",
       "      <td>2 massive explosions at peace march in #turkey...</td>\n",
       "    </tr>\n",
       "    <tr>\n",
       "      <th>4</th>\n",
       "      <td>#mulcair suggests there’s bad blood between hi...</td>\n",
       "    </tr>\n",
       "  </tbody>\n",
       "</table>\n",
       "</div>"
      ],
      "text/plain": [
       "                                                text\n",
       "0  ﻿living the dream. #cameraman #camera #camerac...\n",
       "1  justin #trudeau's reasons for thanksgiving. to...\n",
       "2  @themadape   butt…..butt…..we’re allergic to l...\n",
       "3  2 massive explosions at peace march in #turkey...\n",
       "4  #mulcair suggests there’s bad blood between hi..."
      ]
     },
     "execution_count": 4,
     "metadata": {},
     "output_type": "execute_result"
    }
   ],
   "source": [
    "# Previewing the unclassified_tweets dataset.\n",
    "unclassified_tweets.head()"
   ]
  },
  {
   "cell_type": "markdown",
   "metadata": {},
   "source": [
    "### 1.2 HTML Tag and Character Code Removal\n",
    "Next, html tags are removed from both datasets by capturing all possible cases using a regex value."
   ]
  },
  {
   "cell_type": "code",
   "execution_count": 5,
   "metadata": {},
   "outputs": [],
   "source": [
    "# Removing html tags and attributes.\n",
    "html_tags_rgx = r'<[^>]+>'\n",
    "classified_tweets['text'] = classified_tweets['text'].str.replace(html_tags_rgx, '')\n",
    "unclassified_tweets['text'] = unclassified_tweets['text'].str.replace(html_tags_rgx, '')"
   ]
  },
  {
   "cell_type": "markdown",
   "metadata": {},
   "source": [
    "Now all HTML character codes need to be replaced with their ASCII equivalent. In order to do this, 4 unique HTML character code instances were found by analyzing the datasets prior to hard coding the replacement, using the commented positive lookahead/lookbehind regex value. It was decided that since there are only 4 unique HTML character code variations in the datasets, hard coding replacements would be sufficient.\n",
    "\n",
    "In practice, it would be more benficial to use Python's `html.unescape` function, which takes care of all HTML character replacements. For this assignment, it was decided to avoid the use of that function since its run time was time consuming for just the 4 unique HTML characters present. "
   ]
  },
  {
   "cell_type": "code",
   "execution_count": 6,
   "metadata": {},
   "outputs": [],
   "source": [
    "# Replacing html character codes.\n",
    "# html_char_rgx = r'(?<=&)(.*?)(?=;)'\n",
    "html_char_dict = {'&amp;': '&', '&gt;': '>', '&lt;': '<', '&quot;': '\\\"'}\n",
    "\n",
    "for key, value in html_char_dict.items():\n",
    "    classified_tweets['text'] = classified_tweets['text'].str.replace(key, html_char_dict[key])\n",
    "    unclassified_tweets['text'] = unclassified_tweets['text'].str.replace(key, html_char_dict[key])"
   ]
  },
  {
   "cell_type": "markdown",
   "metadata": {},
   "source": [
    "Through some manual searching, it was found that there were some left over apostrophes represented as `\\'`, rather than their literal string value. Thus, they're being replaced here. "
   ]
  },
  {
   "cell_type": "code",
   "execution_count": 7,
   "metadata": {
    "collapsed": true
   },
   "outputs": [],
   "source": [
    "# Replacing literal \\' to literal apostrophes.\n",
    "lit_apos_rgx = r'\\\\+\\''\n",
    "classified_tweets['text'] = classified_tweets['text'].str.replace(lit_apos_rgx, '\\'')\n",
    "unclassified_tweets['text'] = unclassified_tweets['text'].str.replace(lit_apos_rgx, '\\'')"
   ]
  },
  {
   "cell_type": "markdown",
   "metadata": {},
   "source": [
    "### 1.3 URL Removal\n",
    "Now we need to remove any URLs. This is difficult to define a standard regex case as URLs have various representations. Therefore, the assumption is taken that all links are captured such that they follow `\".(anything a-z)\"`. From that, all non-white space before and after the `\".(anything a-z)\"` will be captured as well. This allows capturing all domain extensions, while also including links with, or without `\"www.\"` and `\"http://\"`. The only downside to this method is that if there are any typos where two sentences are together, it will capture both the beginning and end of those sentences. However, from some lite manual searching, it was found that there most likely aren't many sentences like that, and if there are are, it would be an outlier for the entire dataset. "
   ]
  },
  {
   "cell_type": "code",
   "execution_count": 8,
   "metadata": {
    "scrolled": true
   },
   "outputs": [
    {
     "data": {
      "text/html": [
       "<div>\n",
       "<table border=\"1\" class=\"dataframe\">\n",
       "  <thead>\n",
       "    <tr style=\"text-align: right;\">\n",
       "      <th></th>\n",
       "      <th>class</th>\n",
       "      <th>text</th>\n",
       "    </tr>\n",
       "  </thead>\n",
       "  <tbody>\n",
       "    <tr>\n",
       "      <th>0</th>\n",
       "      <td>0</td>\n",
       "      <td>@switchfoot  - Awww, that's a bummer.  You sho...</td>\n",
       "    </tr>\n",
       "    <tr>\n",
       "      <th>1</th>\n",
       "      <td>0</td>\n",
       "      <td>is upset that he can't update his Facebook by ...</td>\n",
       "    </tr>\n",
       "    <tr>\n",
       "      <th>2</th>\n",
       "      <td>0</td>\n",
       "      <td>@Kenichan I dived many times for the ball. Man...</td>\n",
       "    </tr>\n",
       "    <tr>\n",
       "      <th>3</th>\n",
       "      <td>0</td>\n",
       "      <td>my whole body feels itchy and like its on fire</td>\n",
       "    </tr>\n",
       "    <tr>\n",
       "      <th>4</th>\n",
       "      <td>0</td>\n",
       "      <td>@nationwideclass no, it's not behaving at all....</td>\n",
       "    </tr>\n",
       "  </tbody>\n",
       "</table>\n",
       "</div>"
      ],
      "text/plain": [
       "   class                                               text\n",
       "0      0  @switchfoot  - Awww, that's a bummer.  You sho...\n",
       "1      0  is upset that he can't update his Facebook by ...\n",
       "2      0  @Kenichan I dived many times for the ball. Man...\n",
       "3      0    my whole body feels itchy and like its on fire \n",
       "4      0  @nationwideclass no, it's not behaving at all...."
      ]
     },
     "execution_count": 8,
     "metadata": {},
     "output_type": "execute_result"
    }
   ],
   "source": [
    "# Removing all urls.\n",
    "url_rgx = r'(?:\\S+(?=\\.[a-zA-Z])\\S+)'\n",
    "classified_tweets['text'] = classified_tweets['text'].str.replace(url_rgx, '')\n",
    "unclassified_tweets['text'] = unclassified_tweets['text'].str.replace(url_rgx, '')\n",
    "\n",
    "# Previewing the classified_tweets dataset.\n",
    "classified_tweets.head()"
   ]
  },
  {
   "cell_type": "markdown",
   "metadata": {},
   "source": [
    "### 1.4 Final Clean Up\n",
    "Here, all the characters within the tweets are forced to be lowercase values."
   ]
  },
  {
   "cell_type": "code",
   "execution_count": 9,
   "metadata": {},
   "outputs": [
    {
     "data": {
      "text/html": [
       "<div>\n",
       "<table border=\"1\" class=\"dataframe\">\n",
       "  <thead>\n",
       "    <tr style=\"text-align: right;\">\n",
       "      <th></th>\n",
       "      <th>class</th>\n",
       "      <th>text</th>\n",
       "    </tr>\n",
       "  </thead>\n",
       "  <tbody>\n",
       "    <tr>\n",
       "      <th>0</th>\n",
       "      <td>0</td>\n",
       "      <td>@switchfoot  - awww, that's a bummer.  you sho...</td>\n",
       "    </tr>\n",
       "    <tr>\n",
       "      <th>1</th>\n",
       "      <td>0</td>\n",
       "      <td>is upset that he can't update his facebook by ...</td>\n",
       "    </tr>\n",
       "    <tr>\n",
       "      <th>2</th>\n",
       "      <td>0</td>\n",
       "      <td>@kenichan i dived many times for the ball. man...</td>\n",
       "    </tr>\n",
       "    <tr>\n",
       "      <th>3</th>\n",
       "      <td>0</td>\n",
       "      <td>my whole body feels itchy and like its on fire</td>\n",
       "    </tr>\n",
       "    <tr>\n",
       "      <th>4</th>\n",
       "      <td>0</td>\n",
       "      <td>@nationwideclass no, it's not behaving at all....</td>\n",
       "    </tr>\n",
       "  </tbody>\n",
       "</table>\n",
       "</div>"
      ],
      "text/plain": [
       "   class                                               text\n",
       "0      0  @switchfoot  - awww, that's a bummer.  you sho...\n",
       "1      0  is upset that he can't update his facebook by ...\n",
       "2      0  @kenichan i dived many times for the ball. man...\n",
       "3      0    my whole body feels itchy and like its on fire \n",
       "4      0  @nationwideclass no, it's not behaving at all...."
      ]
     },
     "execution_count": 9,
     "metadata": {},
     "output_type": "execute_result"
    }
   ],
   "source": [
    "# Forcing all string characters to be lower case.\n",
    "classified_tweets['text'] = classified_tweets['text'].str.lower()\n",
    "unclassified_tweets['text'] = unclassified_tweets['text'].str.lower()\n",
    "\n",
    "# Previewing the classified_tweets dataset.\n",
    "classified_tweets.head()"
   ]
  },
  {
   "cell_type": "markdown",
   "metadata": {},
   "source": [
    "Next, stopwords need to be removed from the tweets. Since scikit-learn's logistic regression model will be used, an efficient way to remove stop words is to define an instance of the `CountVectorizer` function within scikit-learn, which would then be used by the logistic regression model. This function acts as a feature extracter for text data and creates a <i>bag-of-words</i>, which essentially gives us a list of word counts for each document, or tweet in our case.\n",
    "\n",
    "Removing stop words can help with training a model since these words usually don't convey the sentiment of a sentence. The reason why this method is being used to remove such words is because it already uses an extensive dictionary of English stop words built into scikit-learn, making it a more efficient way to remove these words during feature extraction, rather than a more brute force approach prior to feature extraction.\n",
    "\n",
    "Also note that the use of bigrams (n-grams where n = 2) is being used. This essentially tokenizes each tweet into two word components. An example being: <i>The cow jumped over the moon</i> - (The cow), (cow jumped), (jumped over), etc. In some cases, using these n-grams as tokens, rather than single words, can yield better results. This is due to many n-grams being a natural form of conveying a message or sentiment in grammar, irrespective of language."
   ]
  },
  {
   "cell_type": "code",
   "execution_count": 10,
   "metadata": {},
   "outputs": [],
   "source": [
    "# Defining bag-of-words as an instance of CountVectorizer\n",
    "bag_of_words = CountVectorizer(stop_words = 'english', ngram_range=(1, 2))"
   ]
  },
  {
   "cell_type": "markdown",
   "metadata": {},
   "source": [
    "Finally, all twitter handles (usernames followed with the `\"@\"` symbol) mentioned inside the classified tweets are removed. This is because, in most cases, the words used in the twitter handles may skew the sentiment model training. However, this is not done for the unclassified tweets, as tweets towards election candidates would be helpful in relating the tweet's political affiliation."
   ]
  },
  {
   "cell_type": "code",
   "execution_count": 11,
   "metadata": {
    "scrolled": true
   },
   "outputs": [
    {
     "data": {
      "text/html": [
       "<div>\n",
       "<table border=\"1\" class=\"dataframe\">\n",
       "  <thead>\n",
       "    <tr style=\"text-align: right;\">\n",
       "      <th></th>\n",
       "      <th>class</th>\n",
       "      <th>text</th>\n",
       "    </tr>\n",
       "  </thead>\n",
       "  <tbody>\n",
       "    <tr>\n",
       "      <th>0</th>\n",
       "      <td>0</td>\n",
       "      <td>- awww, that's a bummer.  you shoulda got da...</td>\n",
       "    </tr>\n",
       "    <tr>\n",
       "      <th>1</th>\n",
       "      <td>0</td>\n",
       "      <td>is upset that he can't update his facebook by ...</td>\n",
       "    </tr>\n",
       "    <tr>\n",
       "      <th>2</th>\n",
       "      <td>0</td>\n",
       "      <td>i dived many times for the ball. managed to s...</td>\n",
       "    </tr>\n",
       "    <tr>\n",
       "      <th>3</th>\n",
       "      <td>0</td>\n",
       "      <td>my whole body feels itchy and like its on fire</td>\n",
       "    </tr>\n",
       "    <tr>\n",
       "      <th>4</th>\n",
       "      <td>0</td>\n",
       "      <td>no, it's not behaving at all. i'm mad. why am...</td>\n",
       "    </tr>\n",
       "  </tbody>\n",
       "</table>\n",
       "</div>"
      ],
      "text/plain": [
       "   class                                               text\n",
       "0      0    - awww, that's a bummer.  you shoulda got da...\n",
       "1      0  is upset that he can't update his facebook by ...\n",
       "2      0   i dived many times for the ball. managed to s...\n",
       "3      0    my whole body feels itchy and like its on fire \n",
       "4      0   no, it's not behaving at all. i'm mad. why am..."
      ]
     },
     "execution_count": 11,
     "metadata": {},
     "output_type": "execute_result"
    }
   ],
   "source": [
    "# Removing twitter handles from classified dataset.\n",
    "handle_rgx = r'@\\S+'\n",
    "classified_tweets['text'] = classified_tweets['text'].str.replace(handle_rgx, '')\n",
    "\n",
    "# Previewing the classified_tweets dataset.\n",
    "classified_tweets.head()"
   ]
  },
  {
   "cell_type": "markdown",
   "metadata": {},
   "source": [
    "<br>\n",
    "## 2. Exploratory Analysis\n",
    "##### _Determining political affiliation of the unclassified tweets._"
   ]
  },
  {
   "cell_type": "markdown",
   "metadata": {},
   "source": [
    "### 2.1 Sorting Tweet Affiliations\n",
    "There are many ways to determine the political affiliations of the unclassified tweets. One way is to simply look for a series of <i>buzz words</i> that would relate it back to a particular political party. Here, we define some common <i>buzz words</i>, including some official Twitter hastags, used for each political party. \n",
    "\n",
    "Only 5 political parties will be analyzed since they were the only parties able to acquire seats during the 2015 Canadian election. These parties include: Liberal, Conservative, NDP, Bloc Québécois, and Green.   "
   ]
  },
  {
   "cell_type": "code",
   "execution_count": 12,
   "metadata": {
    "collapsed": true
   },
   "outputs": [],
   "source": [
    "liberal_buzz = [r'liberal', r'justin', r'trudeau', r'lpc', r'ptlib']\n",
    "conservative_buzz = [r'conservative', r'tory', r'stephen', r'harper', r'cpc', r'pttory']\n",
    "ndp_buzz = [r'ndp', r'new democratic party', r'new democrat', r'thomas', r'mulcair', r'ptndp']\n",
    "bloc_buzz = ['bloc', r'quebecois', r'québécois', r'gilles', r'duceppe', r'bq', r'ptbloc']\n",
    "green_buzz = ['green', 'party', r'elizabeth may', r'gpc', r'ptgreen', r'emayin']"
   ]
  },
  {
   "cell_type": "markdown",
   "metadata": {},
   "source": [
    "Next, we go through the unclassified tweets dataset and search for the <i>buzz words</i> defined earlier. In order to keep track of the words found for each tweet, an $M \\times N$ matrix is used, where $M = Number\\; of\\; tweets$, and $N = 6$. The first column can ignored here, but the remaining 5 correspond to the 5 political parties in question, where each column keeps count of the number of <i>buzz words</i> found for each tweet, with respect to each political party. "
   ]
  },
  {
   "cell_type": "code",
   "execution_count": 13,
   "metadata": {},
   "outputs": [
    {
     "name": "stdout",
     "output_type": "stream",
     "text": [
      "[[ 0.  0.  0.  1.  0.  0.]\n",
      " [ 0.  2.  0.  0.  0.  0.]\n",
      " [ 0.  0.  0.  0.  0.  0.]\n",
      " ..., \n",
      " [ 0.  0.  0.  0.  0.  0.]\n",
      " [ 0.  0.  0.  0.  0.  0.]\n",
      " [ 0.  1.  0.  0.  0.  0.]]\n"
     ]
    }
   ],
   "source": [
    "# Finding and keeping count of buzz words for each political party.\n",
    "tweet_party = np.zeros([6, len(unclassified_tweets)])\n",
    "\n",
    "# Liberal search.\n",
    "for i in range(0, len(liberal_buzz)):\n",
    "    current_buzz = unclassified_tweets['text'].str.count(liberal_buzz[i]).values\n",
    "    tweet_party[1, :] = tweet_party[1, :] + current_buzz\n",
    "\n",
    "# Conservative search.\n",
    "for i in range(0, len(conservative_buzz)):\n",
    "    current_buzz = unclassified_tweets['text'].str.count(conservative_buzz[i]).values\n",
    "    tweet_party[2, :] = tweet_party[2, :] + current_buzz\n",
    "\n",
    "# NDP search.\n",
    "for i in range(0, len(ndp_buzz)):\n",
    "    current_buzz = unclassified_tweets['text'].str.count(ndp_buzz[i]).values\n",
    "    tweet_party[3, :] = tweet_party[3, :] + current_buzz\n",
    "\n",
    "# Bloc Quebecois search.\n",
    "for i in range(0, len(bloc_buzz)):\n",
    "    current_buzz = unclassified_tweets['text'].str.count(bloc_buzz[i]).values\n",
    "    tweet_party[4, :] = tweet_party[4, :] + current_buzz\n",
    "\n",
    "# Green search.\n",
    "for i in range(0, len(green_buzz)):\n",
    "    current_buzz = unclassified_tweets['text'].str.count(green_buzz[i]).values\n",
    "    tweet_party[5, :] = tweet_party[5, :] + current_buzz\n",
    "\n",
    "# Transposing to make sure the matrix is in its intended [M x 6] representation.\n",
    "tweet_party = np.transpose(tweet_party)\n",
    "\n",
    "# Displaying a preview of the [M x 6] party affiliation count matrix.\n",
    "print(tweet_party)"
   ]
  },
  {
   "cell_type": "markdown",
   "metadata": {},
   "source": [
    "With the <i>buzz word</i> counts for each tweet, with respect to each political party complete, it's time to decide the affiliation of the tweet. The reason why each tweet is searched for all 5 parties is because a single tweet may mention things about multiple parties. In order to decide which party such tweets would belong to, the political party with the highest count of <i>buzz words</i> would be used. If they are equal, the party at the left most column would be used.\n",
    "\n",
    "Here, we're doing just that by looking for the max count for each tweet and setting it to 1, and the rest of the row to 0. This is where the ignored first column comes into play. There were many tweets that were not classified as a political party. The method being used to replace the max count to 1, will make the left most column 1 if that particular tweet was not classified, i.e. all columns for that tweet are 0. Thus, the first column can be removed and the raw tweet affiliation data can be found.  "
   ]
  },
  {
   "cell_type": "code",
   "execution_count": 14,
   "metadata": {
    "scrolled": true
   },
   "outputs": [
    {
     "data": {
      "text/html": [
       "<div>\n",
       "<table border=\"1\" class=\"dataframe\">\n",
       "  <thead>\n",
       "    <tr style=\"text-align: right;\">\n",
       "      <th></th>\n",
       "      <th>Liberal</th>\n",
       "      <th>Conservative</th>\n",
       "      <th>NDP</th>\n",
       "      <th>Bloc Québécois</th>\n",
       "      <th>Green</th>\n",
       "      <th>Total Tweets Affiliated</th>\n",
       "    </tr>\n",
       "  </thead>\n",
       "  <tbody>\n",
       "    <tr>\n",
       "      <th>Tweets</th>\n",
       "      <td>634.0</td>\n",
       "      <td>537.0</td>\n",
       "      <td>290.0</td>\n",
       "      <td>10.0</td>\n",
       "      <td>42.0</td>\n",
       "      <td>1513.0</td>\n",
       "    </tr>\n",
       "  </tbody>\n",
       "</table>\n",
       "</div>"
      ],
      "text/plain": [
       "        Liberal  Conservative    NDP  Bloc Québécois  Green  \\\n",
       "Tweets    634.0         537.0  290.0            10.0   42.0   \n",
       "\n",
       "        Total Tweets Affiliated  \n",
       "Tweets                   1513.0  "
      ]
     },
     "execution_count": 14,
     "metadata": {},
     "output_type": "execute_result"
    }
   ],
   "source": [
    "# Giving each tweet its final political party affiliation.\n",
    "tweet_party_clipped = np.zeros_like(tweet_party)\n",
    "tweet_party_clipped[np.arange(len(tweet_party)), tweet_party.argmax(1)] = 1\n",
    "tweet_party_clipped = np.delete(tweet_party_clipped, 0, 1) \n",
    "\n",
    "tweet_party_sum = np.sum(tweet_party_clipped, axis = 0)\n",
    "\n",
    "# Representing data as a panda to show the head table.\n",
    "view_sum = pd.DataFrame(data = np.transpose(tweet_party_sum)).transpose()\n",
    "view_sum.columns = ['Liberal', 'Conservative', 'NDP', 'Bloc Québécois', 'Green']\n",
    "view_sum.index = ['Tweets']\n",
    "view_sum['Total Tweets Affiliated'] = view_sum.sum(axis = 1)\n",
    "view_sum.head()"
   ]
  },
  {
   "cell_type": "markdown",
   "metadata": {},
   "source": [
    "### 2.2 Analyzing Tweet Affiliations Visually\n",
    "With metrics now available, the best way to see the tweet distribution for political party affiliations is visually. Here, we structure bar and pie charts to see the distributions with raw tweet count and percentages respectively."
   ]
  },
  {
   "cell_type": "code",
   "execution_count": 15,
   "metadata": {},
   "outputs": [
    {
     "data": {
      "image/png": "[encoded data removed]",
      "text/plain": [
       "<matplotlib.figure.Figure at 0x7fa9a4facf98>"
      ]
     },
     "metadata": {},
     "output_type": "display_data"
    },
    {
     "data": {
      "image/png": "[encoded data removed]",
      "text/plain": [
       "<matplotlib.figure.Figure at 0x7fa9a7709f60>"
      ]
     },
     "metadata": {},
     "output_type": "display_data"
    }
   ],
   "source": [
    "# Plotting the metrics determined for tweet political affiliation.\n",
    "party_titles = ['Liberal', 'Conservative', 'NDP', 'Bloc \\nQuébécois', 'Green']\n",
    "y_pos = np.arange(len(party_titles))\n",
    "\n",
    "col = ['#EA6D6A', '#6495ED', '#F4A460', '#87CEFA', '#99C955']\n",
    "\n",
    "# Bar chart.\n",
    "plt.bar(y_pos, tweet_party_sum, color = col, align = 'center')\n",
    "plt.xticks(y_pos, party_titles, fontsize = 10)\n",
    "plt.ylabel('Tweet Count')\n",
    "plt.title('Political Party Twitter Mentions \\nDuring The 2015 Canadian Elections', fontsize = 14, fontweight = 'bold', y = 1.05)\n",
    "plt.show()\n",
    "\n",
    "# Pie chart.\n",
    "patch, text, auto = plt.pie(tweet_party_sum, labels = party_titles, colors = col, shadow = True, autopct = '%1.1f%%', explode = (0, 0, 0, 0.7, 0.5))\n",
    "plt.title('Political Party Mention Percentage \\nDuring The 2015 Canadian Elections', fontsize = 14, fontweight = 'bold', y = 1.05)\n",
    "for i in range(0, len(auto)): auto[i].set_fontsize(14)\n",
    "\n",
    "plt.axis('equal')\n",
    "plt.show()"
   ]
  },
  {
   "cell_type": "markdown",
   "metadata": {},
   "source": [
    "From the graphs it's clearer to see that the Liberal party had the most mentions compared to the rest, followed by the Conservatives as what historically happens during the Canadian elections. The NDP also have almost 20% of the tweet mentions. The Bloc Québécois and Green parties both accumilated 0.7% and 2.8% respectively.\n",
    "\n",
    "Before moving ahead, the sentiment percentage of the classfied tweets dataset is analyzed as well. The figure below shows that the dataset is split into equal parts negative and positive tweets which will be a good basis for model training."
   ]
  },
  {
   "cell_type": "code",
   "execution_count": 16,
   "metadata": {
    "scrolled": true
   },
   "outputs": [
    {
     "data": {
      "image/png": "[encoded data removed]",
      "text/plain": [
       "<matplotlib.figure.Figure at 0x7fa9a73fc518>"
      ]
     },
     "metadata": {},
     "output_type": "display_data"
    }
   ],
   "source": [
    "# Plotting the sentiment mentrics for the classified tweets data set.\n",
    "sent_count = classified_tweets['class'].value_counts()\n",
    "sent_sum = [sent_count[0], sent_count[4]]\n",
    "\n",
    "sent_titles = ['Negative Tweets', 'Positive Tweets']\n",
    "\n",
    "col = ['#87CEFA', '#FFFFAA']\n",
    "\n",
    "# Pie chart.\n",
    "patch, text, auto = plt.pie(sent_sum, labels = sent_titles, colors = col, shadow = True, autopct = '%1.1f%%', startangle = 90)\n",
    "plt.title('Sentiment Percentage Breakdown \\nFor The Classified Tweets Dataset', fontsize = 14, fontweight = 'bold', y = 1.05)\n",
    "for i in range(0, len(auto)): auto[i].set_fontsize(14)\n",
    "\n",
    "plt.axis('equal')\n",
    "plt.show()"
   ]
  },
  {
   "cell_type": "markdown",
   "metadata": {},
   "source": [
    "<br>\n",
    "## 3. Model Preperation\n",
    "##### _Preparing the data for logistic regression._"
   ]
  },
  {
   "cell_type": "markdown",
   "metadata": {},
   "source": [
    "### 3.1 Splitting the Dataset\n",
    "Here, we use scikit-learn's `train_test_split` funtion in order to define the training and test sets of the classified tweet dataset that will be used for sentiment model training. The training data will use 70% of the original dataset, whereas the remaining 30% will be used for the test set. Thus, $x_n$ represents the tweets, $y_n$ represents the tweet's class, and $n$ represents either training or test sets.\n",
    "\n",
    "Note that `y_train` is being casted to an intger type to avoid errors during training. "
   ]
  },
  {
   "cell_type": "code",
   "execution_count": 17,
   "metadata": {
    "scrolled": true
   },
   "outputs": [],
   "source": [
    "# Splitting classified dataset into training and test sets\n",
    "x_train, x_test, y_train, y_test = train_test_split(classified_tweets['text'], classified_tweets['class'], test_size = 0.30)\n",
    "y_train = y_train.astype('int')"
   ]
  },
  {
   "cell_type": "markdown",
   "metadata": {},
   "source": [
    "### 3.2 Feature Extraction\n",
    "Next, we can implement the <i>bag-of-words</i> variable created in Section 1.4, which was an instance of `CountVectorizer`. In order to implement it, we simply feed the $x_n$ data (i.e. the tweets) to the <i>bag-of-words</i>, and it will give us a new set of training and testing data which will be the extracted feature vectors of the original text. As mentioned earlier, the new <i>bag-of-words</i> feature vectors will essentially be the word counts for each unique word in the text documents, or tweets.\n",
    "\n",
    "Note that the training set is being fit and transformed, whereas the test set is only being transformed. This is becuase the test set is purely needed for checking it's accuracy. "
   ]
  },
  {
   "cell_type": "code",
   "execution_count": 18,
   "metadata": {
    "collapsed": true
   },
   "outputs": [],
   "source": [
    "# Feture vector (bag-of-words) extraction on the training and test sets. \n",
    "x_train_BOW = bag_of_words.fit_transform(x_train)\n",
    "x_test_BOW = bag_of_words.transform(x_test)"
   ]
  },
  {
   "cell_type": "markdown",
   "metadata": {},
   "source": [
    "The same feature vector extraction is done for the unclassified tweets, as it will also be used for sentiment analysis."
   ]
  },
  {
   "cell_type": "code",
   "execution_count": 19,
   "metadata": {},
   "outputs": [],
   "source": [
    "# Feture vector (bag-of-words) extraction on the unclassified dataset. \n",
    "unclass_BOW = bag_of_words.transform(unclassified_tweets['text'].values.astype('U'))"
   ]
  },
  {
   "cell_type": "markdown",
   "metadata": {},
   "source": [
    "### 3.3 Model Initialization\n",
    "Finally, we call an instance of scikit-learn's `LogisticRegression` function into `model`, which will be used in Section 4."
   ]
  },
  {
   "cell_type": "code",
   "execution_count": 20,
   "metadata": {
    "collapsed": true
   },
   "outputs": [],
   "source": [
    "# Initializing the logistic regression model.\n",
    "model = LogisticRegression()"
   ]
  },
  {
   "cell_type": "markdown",
   "metadata": {},
   "source": [
    "<br>\n",
    "## 4. Model Implementation\n",
    "##### _Training and testing the logistic regression model._"
   ]
  },
  {
   "cell_type": "markdown",
   "metadata": {},
   "source": [
    "### 4.1 Training the Model\n",
    "With numeric representation of the tweets available, we can finally train the logistic regression model. Here, we're training the `model`, created in Section 3.3, using the feature vectors, $x_{BOW}$, and its corresponding classes, $y_{train}$."
   ]
  },
  {
   "cell_type": "code",
   "execution_count": 21,
   "metadata": {},
   "outputs": [
    {
     "data": {
      "text/plain": [
       "LogisticRegression(C=1.0, class_weight=None, dual=False, fit_intercept=True,\n",
       "          intercept_scaling=1, max_iter=100, multi_class='ovr', n_jobs=1,\n",
       "          penalty='l2', random_state=None, solver='liblinear', tol=0.0001,\n",
       "          verbose=0, warm_start=False)"
      ]
     },
     "execution_count": 21,
     "metadata": {},
     "output_type": "execute_result"
    }
   ],
   "source": [
    "# Training the logistic regression model.\n",
    "model.fit(x_train_BOW, y_train)"
   ]
  },
  {
   "cell_type": "markdown",
   "metadata": {},
   "source": [
    "### 4.2 Testing Trained Model Accuracy\n",
    "With the `model` trained, the accuracy can be determined by first predicting a new set of classes using the $x_{test}$ set, and comparing it to the actual classes, $y_{test}$. Scikit-learn allows us to obtain model accuracy quickly using the `score` function."
   ]
  },
  {
   "cell_type": "code",
   "execution_count": 22,
   "metadata": {
    "scrolled": true
   },
   "outputs": [
    {
     "name": "stdout",
     "output_type": "stream",
     "text": [
      "Model Accuracy: 76.8483333333 %\n"
     ]
    }
   ],
   "source": [
    "# Checking accuracy level of the trained model. \n",
    "class_predicted = model.predict(x_test_BOW)\n",
    "class_actual = np.array(y_test)\n",
    "print(\"Model Accuracy:\", (100*model.score(x_test_BOW, y_test)), \"%\")"
   ]
  },
  {
   "cell_type": "markdown",
   "metadata": {},
   "source": [
    "Model accuracy will vary from run to run, however the overall average of the accuracy is around 76.5%, which is a good model to use as a baseline in sentiment analysis using other datasets. "
   ]
  },
  {
   "cell_type": "markdown",
   "metadata": {},
   "source": [
    "### 4.3 Using the Trained Model for Sentiment Analysis\n",
    "With a trained sentiment model availalbe, the next objective is to perform some sentiment analysis on the unclassfied tweets. The `predict` function is used once again, except the <i>bag-of-words</i> for the unclassified tweets is fed through instead. Then the total count of both negative and positive tweets for the unclassfied dataset is determined. "
   ]
  },
  {
   "cell_type": "code",
   "execution_count": 23,
   "metadata": {},
   "outputs": [
    {
     "data": {
      "text/html": [
       "<div>\n",
       "<table border=\"1\" class=\"dataframe\">\n",
       "  <thead>\n",
       "    <tr style=\"text-align: right;\">\n",
       "      <th></th>\n",
       "      <th>Negative Sentiment</th>\n",
       "      <th>Positive Sentiment</th>\n",
       "      <th>Total</th>\n",
       "    </tr>\n",
       "  </thead>\n",
       "  <tbody>\n",
       "    <tr>\n",
       "      <th>Tweets</th>\n",
       "      <td>655</td>\n",
       "      <td>2371</td>\n",
       "      <td>3026</td>\n",
       "    </tr>\n",
       "  </tbody>\n",
       "</table>\n",
       "</div>"
      ],
      "text/plain": [
       "        Negative Sentiment  Positive Sentiment  Total\n",
       "Tweets                 655                2371   3026"
      ]
     },
     "execution_count": 23,
     "metadata": {},
     "output_type": "execute_result"
    }
   ],
   "source": [
    "# Predicting the sentiment class of the unclassified dataset using the trained model.\n",
    "unclass_predicted = model.predict(unclass_BOW)\n",
    "unclass_count = np.unique(unclass_predicted, return_counts = True)\n",
    "unclass_array = np.array([[unclass_count[1][0], unclass_count[1][1]]])\n",
    "\n",
    "# Representing data as a panda to show the head table.\n",
    "view_total_sent = pd.DataFrame(data = unclass_array, columns = ['Negative Sentiment', 'Positive Sentiment'], index = ['Tweets'])\n",
    "view_total_sent['Total'] = view_total_sent.sum(axis = 1)\n",
    "view_total_sent.head()"
   ]
  },
  {
   "cell_type": "markdown",
   "metadata": {},
   "source": [
    "Once again, the sentiment percentage is plotted to view the results visually."
   ]
  },
  {
   "cell_type": "code",
   "execution_count": 24,
   "metadata": {},
   "outputs": [
    {
     "data": {
      "image/png": "[encoded data removed]",
      "text/plain": [
       "<matplotlib.figure.Figure at 0x7fa996fdea90>"
      ]
     },
     "metadata": {},
     "output_type": "display_data"
    }
   ],
   "source": [
    "# Plotting the sentiment mentrics for the unclassified tweets data set.\n",
    "unclass_sent_sum = [unclass_count[1][0], unclass_count[1][1]]\n",
    "\n",
    "col = ['#87CEFA', '#FFFFAA']\n",
    "\n",
    "# Pie chart.\n",
    "patch, text, auto = plt.pie(unclass_sent_sum, labels = sent_titles, colors = col, shadow = True, autopct = '%1.1f%%', startangle = 90)\n",
    "plt.title('Sentiment Prediction Percentage Breakdown \\nFor The Unclassified Election Tweets Dataset', fontsize = 14, fontweight = 'bold', y = 1.05)\n",
    "for i in range(0, len(auto)): auto[i].set_fontsize(14)\n",
    "\n",
    "plt.axis('equal')\n",
    "plt.show()"
   ]
  },
  {
   "cell_type": "markdown",
   "metadata": {},
   "source": [
    "From the figure above, we see that there is an average of about 80% / 20% split on positive and negative tweets repectively, for the entire dataset."
   ]
  },
  {
   "cell_type": "markdown",
   "metadata": {},
   "source": [
    "<br>\n",
    "## 5. Discussion\n",
    "##### _\"What can public opinion on Twitter tell us about the Canadian political landscape in 2015?\"._"
   ]
  },
  {
   "cell_type": "markdown",
   "metadata": {},
   "source": [
    "### 5.1 Visualizing Political Party Sentiment\n",
    "From Section 4.3 we know that the general sentiment towards the 2015 election can be thought of as positive. However, knowing just the sentiment metrics of the entire unclassified dataset won't be sufficient to answer the research question. In order to do so, visualizing the the sentiment breakdown for each party will be important.\n",
    "\n",
    "Therefore, we can use the predicted classes of the unclassified datset, and compare it to each tweet's political affiliation in order to keep track of each political party's sentiments. This is done so below where the sentiment counters for each party are incremented when comparing with the tweet's affiliation, determined in Section 2.1, with the predicted classes. The sentement counters are stored in an $M \\times N$ matrix, where $M = 2$ and $N = 5$. The first row of this matrix is the negative sentiment counter, whereas the second row is the positive sentiment counter. Each column represents a political party as seen earlier. The output of the following code block gives the table with each political party sentiment breakdown, and their respective totals."
   ]
  },
  {
   "cell_type": "code",
   "execution_count": 25,
   "metadata": {},
   "outputs": [
    {
     "data": {
      "text/html": [
       "<div>\n",
       "<table border=\"1\" class=\"dataframe\">\n",
       "  <thead>\n",
       "    <tr style=\"text-align: right;\">\n",
       "      <th></th>\n",
       "      <th>Liberal</th>\n",
       "      <th>Conservative</th>\n",
       "      <th>NDP</th>\n",
       "      <th>Bloc Québécois</th>\n",
       "      <th>Green</th>\n",
       "      <th>Sentiment Total</th>\n",
       "    </tr>\n",
       "  </thead>\n",
       "  <tbody>\n",
       "    <tr>\n",
       "      <th>Negative</th>\n",
       "      <td>192.0</td>\n",
       "      <td>154.0</td>\n",
       "      <td>71.0</td>\n",
       "      <td>2.0</td>\n",
       "      <td>5.0</td>\n",
       "      <td>424.0</td>\n",
       "    </tr>\n",
       "    <tr>\n",
       "      <th>Positive</th>\n",
       "      <td>442.0</td>\n",
       "      <td>383.0</td>\n",
       "      <td>219.0</td>\n",
       "      <td>8.0</td>\n",
       "      <td>37.0</td>\n",
       "      <td>1089.0</td>\n",
       "    </tr>\n",
       "    <tr>\n",
       "      <th>Party Total</th>\n",
       "      <td>634.0</td>\n",
       "      <td>537.0</td>\n",
       "      <td>290.0</td>\n",
       "      <td>10.0</td>\n",
       "      <td>42.0</td>\n",
       "      <td>1513.0</td>\n",
       "    </tr>\n",
       "  </tbody>\n",
       "</table>\n",
       "</div>"
      ],
      "text/plain": [
       "             Liberal  Conservative    NDP  Bloc Québécois  Green  \\\n",
       "Negative       192.0         154.0   71.0             2.0    5.0   \n",
       "Positive       442.0         383.0  219.0             8.0   37.0   \n",
       "Party Total    634.0         537.0  290.0            10.0   42.0   \n",
       "\n",
       "             Sentiment Total  \n",
       "Negative               424.0  \n",
       "Positive              1089.0  \n",
       "Party Total           1513.0  "
      ]
     },
     "execution_count": 25,
     "metadata": {},
     "output_type": "execute_result"
    }
   ],
   "source": [
    "# Finding sentiment counts for the tweets that were given a political affiliation earlier.\n",
    "tweet_sent_sum = np.zeros([2, 5])\n",
    "\n",
    "for i in range(0, 5):\n",
    "    for j in range(0, len(unclassified_tweets)):\n",
    "        if((tweet_party_clipped[j, i] == 1) and (unclass_predicted[j] == 0)):\n",
    "            tweet_sent_sum[0, i] = tweet_sent_sum[0, i] + 1\n",
    "        \n",
    "        if((tweet_party_clipped[j, i] == 1) and (unclass_predicted[j] == 4)):\n",
    "            tweet_sent_sum[1, i] = tweet_sent_sum[1, i] + 1\n",
    "\n",
    "# Representing data as a panda to show the head table.\n",
    "view_sent = pd.DataFrame(data = tweet_sent_sum, columns = ['Liberal', 'Conservative', 'NDP', 'Bloc Québécois', 'Green'], index = ['Negative', 'Positive'])\n",
    "view_sent.loc['Party Total'] = view_sent.sum()\n",
    "view_sent['Sentiment Total'] = view_sent.sum(axis = 1)\n",
    "view_sent.head()"
   ]
  },
  {
   "cell_type": "markdown",
   "metadata": {},
   "source": [
    "Once again, with metrics available, the data can be understood better visually. Here we plot a bar chart similar to the one in Section 2.2, where here it's is stacked bar chart showing the sentiment ditribution with respect to the political party's tweet count. "
   ]
  },
  {
   "cell_type": "code",
   "execution_count": 26,
   "metadata": {
    "scrolled": true
   },
   "outputs": [
    {
     "data": {
      "image/png": "[encoded data removed]",
      "text/plain": [
       "<matplotlib.figure.Figure at 0x7fa9a2dd4dd8>"
      ]
     },
     "metadata": {},
     "output_type": "display_data"
    }
   ],
   "source": [
    "# Plotting the sentiment distribution for political party.\n",
    "p1 = plt.bar(y_pos, tweet_sent_sum[1, :], color = '#FFFFAA', align = 'center')\n",
    "p2 = plt.bar(y_pos, tweet_sent_sum[0, :], color = '#87CEFA', align = 'center', bottom = tweet_sent_sum[1, :])\n",
    "\n",
    "plt.xticks(y_pos, party_titles, fontsize = 10)\n",
    "plt.ylabel('Tweet Count')\n",
    "plt.title('Sentiment Breakdown Of Political Party Twitter Mentions \\nDuring The 2015 Canadian Elections', fontsize = 14, fontweight = 'bold', y = 1.05)\n",
    "plt.legend((p2[0], p1[0]), ('Negative Tweets', 'Postive Tweets'))\n",
    "plt.show()\n",
    "\n",
    "plt.show()"
   ]
  },
  {
   "cell_type": "markdown",
   "metadata": {},
   "source": [
    "### 5.2 Summarizing Findings\n",
    "There is now sufficient information to answer the research question: <i>“What can public opinion on Twitter tell us about the Canadian political landscape in 2015?”</i>. As mentioned earlier, from the figure in Section 4.3, it can be clearly seen that the overall political landscape amongst the public was generally positive, with around an 80/20 positive/negative split. This also supports the findings in Section 5.1, where it can be clearly seen that there is a higher disproportion in positive tweets towards political parties than there are negative. This disproportion is also vaguely close to the 80/20 split from before.\n",
    "\n",
    "An interesting comparisons can be made with respect to the tweet's political affiliations, and the actual final vote results of the 2015 elections. Both the tweet affiliations and the votes recieved have a very simillar distributions as seen below. Note that the final vote percentages were obtained from CBC's election results, found here: http://www.cbc.ca/includes/federalelection/dashboard/"
   ]
  },
  {
   "cell_type": "code",
   "execution_count": 27,
   "metadata": {
    "scrolled": true
   },
   "outputs": [
    {
     "data": {
      "image/png": "[encoded data removed]",
      "text/plain": [
       "<matplotlib.figure.Figure at 0x7fa997f38668>"
      ]
     },
     "metadata": {},
     "output_type": "display_data"
    }
   ],
   "source": [
    "tweet_percentage = 100*np.divide(tweet_party_sum, np.sum(tweet_party_sum))\n",
    "vote_percentage = [39.5, 31.9, 19.7, 4.7, 3.4]\n",
    "\n",
    "pt1 = plt.bar(y_pos, tweet_percentage, 0.35, color='#00BFFF')\n",
    "pt2 = plt.bar(y_pos + 0.35, vote_percentage, 0.35, color='#DF0101')\n",
    "\n",
    "plt.xticks(y_pos + 0.35, party_titles, fontsize = 10)\n",
    "plt.ylabel('Percentage, %')\n",
    "plt.title('Comparison of Twitter Mentions and Votes Recieved \\nDuring The 2015 Canadian Elections', fontsize = 14, fontweight = 'bold', y = 1.05)\n",
    "plt.legend((pt1[0], pt2[0]), ('Tweet Percentage', 'Vote Percentage'))\n",
    "plt.show()\n",
    "\n",
    "plt.show()"
   ]
  },
  {
   "cell_type": "markdown",
   "metadata": {},
   "source": [
    "The figure above shows the stark similarity in the distribution in Twitter mentions and the actual election results. This can suggest that Twitter is indeed a very good representation of how people will vote in election settings. Note that votes alone won't suggest the outcome of an election, but factoring in the sentiment for each party will help with doing so. Luckily for us, the analysis consistently revealed more positive sentiment towards each party than negative, so the percentage distribution of postive tweets, and the overall tweets can be used interchangeably for rough estimates. \n",
    "\n",
    "The only party that doesn't correlate here is the Bloc Québécois which can be attributed to the possibility that most of the tweets about the BQ are in French and went unnoticed during the buzz word search. Another possiblilty could be that the Québec sepratist movement is predominantly supported by an older generation that doesn't have a twitter presence.\n",
    "\n",
    "From the results obtained throughout the assignment, it can be concluded that having a <i>postive</i> social media presence is essential in order to engage with today's voters."
   ]
  }
 ],
 "metadata": {
  "kernelspec": {
   "display_name": "Python 2",
   "language": "python",
   "name": "python2"
  },
  "language_info": {
   "codemirror_mode": {
    "name": "ipython",
    "version": 2
   },
   "file_extension": ".py",
   "mimetype": "text/x-python",
   "name": "python",
   "nbconvert_exporter": "python",
   "pygments_lexer": "ipython2",
   "version": "2.7.12"
  },
  "widgets": {
   "state": {},
   "version": "1.1.2"
  }
 },
 "nbformat": 4,
 "nbformat_minor": 1
}
